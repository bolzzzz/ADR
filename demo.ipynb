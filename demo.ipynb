{
 "cells": [
  {
   "cell_type": "markdown",
   "metadata": {},
   "source": [
    "# ADR (Anomaly Detection by workflow Relations)"
   ]
  },
  {
   "cell_type": "markdown",
   "metadata": {},
   "source": [
    "ADR mines numerical relations from log data and uses the relations for anomaly detection."
   ]
  },
  {
   "cell_type": "markdown",
   "metadata": {},
   "source": [
    "In the following parts, we use the BGL logs as an example to show the capability of ADR."
   ]
  },
  {
   "cell_type": "markdown",
   "metadata": {},
   "source": [
    "## parse raw logs to log events"
   ]
  },
  {
   "cell_type": "markdown",
   "metadata": {},
   "source": [
    "## load datasets"
   ]
  },
  {
   "cell_type": "markdown",
   "metadata": {},
   "source": [
    "For ease of presentation, the raw logs are already parsed into structured log events by Drain <sup>[1]</sup> and the event-count-matrices are evaluated and saved in \"_data.zip_\". Please unzip \"_data.zip_\" to ADR folder before running the demo code."
   ]
  },
  {
   "cell_type": "code",
   "execution_count": 2,
   "metadata": {
    "ExecuteTime": {
     "end_time": "2021-04-26T14:47:14.214918Z",
     "start_time": "2021-04-26T14:47:14.203239Z"
    }
   },
   "outputs": [],
   "source": [
    "import numpy as np\n",
    "\n",
    "log_paths = {\n",
    "    'bgl': 'data/Drain_result/bgl/x_y_xColumns.npz',\n",
    "    }\n",
    "\n",
    "log_datasets = {}\n",
    "for name, log_path in log_paths.items():\n",
    "    log_datasets[name] = np.load(log_path, allow_pickle=True)"
   ]
  },
  {
   "cell_type": "markdown",
   "metadata": {},
   "source": [
    "## sADR (semi-supervised, need normal logs for training)"
   ]
  },
  {
   "cell_type": "code",
   "execution_count": 3,
   "metadata": {
    "ExecuteTime": {
     "end_time": "2021-04-26T13:59:18.654504Z",
     "start_time": "2021-04-26T13:59:18.638851Z"
    },
    "scrolled": true
   },
   "outputs": [
    {
     "name": "stdout",
     "output_type": "stream",
     "text": [
      "==============================\n",
      "bgl\n",
      "-----train number:100-----\n",
      "Accuracy on training set:\n",
      "precision, recall, f1: [0.9492, 1.0, 0.9739]\n",
      "Accuracy on testing set:\n",
      "precision, recall, f1: [0.8084, 1.0, 0.8941]\n",
      "-----train number:150-----\n",
      "Accuracy on training set:\n",
      "precision, recall, f1: [0.9302, 1.0, 0.9639]\n",
      "Accuracy on testing set:\n",
      "precision, recall, f1: [0.8232, 1.0, 0.9031]\n",
      "-----train number:200-----\n",
      "Accuracy on training set:\n",
      "precision, recall, f1: [0.9626, 1.0, 0.981]\n",
      "Accuracy on testing set:\n",
      "precision, recall, f1: [0.8294, 1.0, 0.9068]\n",
      "-----train number:250-----\n",
      "Accuracy on training set:\n",
      "precision, recall, f1: [0.9407, 1.0, 0.9695]\n",
      "Accuracy on testing set:\n",
      "precision, recall, f1: [0.8224, 1.0, 0.9026]\n",
      "-----train number:300-----\n",
      "Accuracy on training set:\n",
      "precision, recall, f1: [0.9506, 1.0, 0.9747]\n",
      "Accuracy on testing set:\n",
      "precision, recall, f1: [0.8434, 1.0, 0.915]\n",
      "-----train number:350-----\n",
      "Accuracy on training set:\n",
      "precision, recall, f1: [0.9358, 1.0, 0.9669]\n",
      "Accuracy on testing set:\n",
      "precision, recall, f1: [0.8372, 1.0, 0.9114]\n",
      "-----train number:400-----\n",
      "Accuracy on training set:\n",
      "precision, recall, f1: [0.961, 1.0, 0.9801]\n",
      "Accuracy on testing set:\n",
      "precision, recall, f1: [0.8705, 1.0, 0.9308]\n",
      "-----train number:450-----\n",
      "Accuracy on training set:\n",
      "precision, recall, f1: [0.9404, 1.0, 0.9693]\n",
      "Accuracy on testing set:\n",
      "precision, recall, f1: [0.8639, 1.0, 0.927]\n",
      "-----train number:500-----\n",
      "Accuracy on training set:\n",
      "precision, recall, f1: [0.95, 1.0, 0.9744]\n",
      "Accuracy on testing set:\n",
      "precision, recall, f1: [0.8806, 1.0, 0.9365]\n"
     ]
    }
   ],
   "source": [
    "from ADR import preprocess\n",
    "from ADR import sADR\n",
    "\n",
    "train_numbers = [100, 150, 200, 250, 300, 350, 400, 450, 500]\n",
    "\n",
    "for log_name, x_y_xColumns in log_datasets.items():\n",
    "    print(f'='*30)\n",
    "    print(log_name)\n",
    "    x, y, xColumns = x_y_xColumns['x'], x_y_xColumns['y'], x_y_xColumns['xColumns']\n",
    "\n",
    "    for i in range(len(train_numbers)):\n",
    "        train_number = train_numbers[i]\n",
    "        print(f'-----train number:{train_number}-----')\n",
    "        if i == 0:\n",
    "            x_train, y_train, x_test, y_test = x_train, y_train, x_test, y_test = preprocess.split_to_train_test_by_num(x, y, num_train=train_number)\n",
    "        else:\n",
    "            x_train_adding, y_train_adding, x_test, y_test = preprocess.split_to_train_test_by_num(x, y, num_train=train_numbers[i]-train_numbers[i-1])\n",
    "            x_train = np.concatenate((x_train, x_train_adding), axis=0)\n",
    "            y_train = np.concatenate((y_train, y_train_adding), axis=0)\n",
    "\n",
    "        # print(np.arange(x_train.shape[0]))\n",
    "        model = sADR.sADR()\n",
    "        model.fit(x_train, y_train)\n",
    "        precision, recall, f1 = model.evaluate(x_train, y_train)\n",
    "        print('Accuracy on training set:')\n",
    "        print(f\"precision, recall, f1: {[precision, recall, f1]}\")\n",
    "\n",
    "        precision, recall, f1 = model.evaluate(x_test, y_test)\n",
    "        print('Accuracy on testing set:')\n",
    "        print(f\"precision, recall, f1: {[precision, recall, f1]}\")"
   ]
  },
  {
   "cell_type": "markdown",
   "metadata": {},
   "source": [
    "## uADR (unsupervised, do not need labelled logs for training)"
   ]
  },
  {
   "cell_type": "code",
   "execution_count": 4,
   "metadata": {
    "ExecuteTime": {
     "end_time": "2021-04-26T14:47:21.074112Z",
     "start_time": "2021-04-26T14:47:18.011598Z"
    }
   },
   "outputs": [
    {
     "name": "stdout",
     "output_type": "stream",
     "text": [
      "========\n",
      "bgl\n",
      "0.4530555074221683\n",
      "x shape: (69252, 384)\n",
      "x_train shape:(55401, 384)\n",
      "x_test shape:(13851, 384)\n"
     ]
    }
   ],
   "source": [
    "from ADR import preprocess\n",
    "\n",
    "u_log_datasets_train_test = {}\n",
    "\n",
    "u_train_ratios = {\n",
    "    'bgl': 0.8\n",
    "    }\n",
    "for name, x_y_xColumns in log_datasets.items():\n",
    "    if name in ['hdfs', 'bgl']:\n",
    "        print(\"========\")\n",
    "        print(name)\n",
    "        x, y, xColumns = x_y_xColumns['x'], x_y_xColumns['y'], x_y_xColumns['xColumns']\n",
    "        print(y.sum()/y.size)\n",
    "        print(f'x shape: {x.shape}')\n",
    "        x_train, y_train, x_test, y_test = preprocess.split_to_train_test_by_ratio(x, y, train_ratio=u_train_ratios[name])\n",
    "        u_log_datasets_train_test[name] = [x_train, y_train, x_test, y_test]\n",
    "        print(f'x_train shape:{x_train.shape}')\n",
    "        print(f'x_test shape:{x_test.shape}')"
   ]
  },
  {
   "cell_type": "code",
   "execution_count": 18,
   "metadata": {
    "ExecuteTime": {
     "end_time": "2021-04-27T02:00:06.800166Z",
     "start_time": "2021-04-27T01:49:45.925436Z"
    }
   },
   "outputs": [
    {
     "name": "stdout",
     "output_type": "stream",
     "text": [
      "=====bgl=====\n",
      "-----0.5-----\n",
      "Accuracy on training set:\n",
      "precision, recall, f1: [0.6581, 1.0, 0.7938]\n",
      "Accuracy on testing set:\n",
      "precision, recall, f1: [0.6625, 1.0, 0.797]\n"
     ]
    }
   ],
   "source": [
    "from ADR import uADR\n",
    "\n",
    "log_name = 'bgl'\n",
    "estimated_pN = 0.5\n",
    "\n",
    "print('='*30)\n",
    "print(log_name)\n",
    "print(f'estimated_pN: {estimated_pN}')\n",
    "x_train, y_train, x_test, y_test = u_log_datasets_train_test[log_name]\n",
    "\n",
    "model = uADR.uADR(AN_ratio=1-estimated_pN, nrows_per_sample=10, nrounds=100)\n",
    "model.fit(x_train)\n",
    "precision, recall, f1 = model.evaluate(x_train, y_train)\n",
    "print('Accuracy on training set:')\n",
    "print(f\"precision, recall, f1: {[precision, recall, f1]}\")\n",
    "\n",
    "precision, recall, f1 = model.evaluate(x_test, y_test)\n",
    "print('Accuracy on testing set:')\n",
    "print(f\"precision, recall, f1: {[precision, recall, f1]}\")"
   ]
  },
  {
   "cell_type": "markdown",
   "metadata": {},
   "source": [
    "## References\n",
    "\n",
    "[1] P. He, J. Zhu, Z. Zheng, and M. R. Lyu, “Drain: An Online Log Parsing Approach with Fixed Depth Tree,” in 2017 IEEE International Conference on Web Services (ICWS), Jun. 2017, pp. 33–40, doi: 10.1109/ICWS.2017.13."
   ]
  }
 ],
 "metadata": {
  "kernelspec": {
   "display_name": "Python 3",
   "language": "python",
   "name": "python3"
  },
  "language_info": {
   "codemirror_mode": {
    "name": "ipython",
    "version": 3
   },
   "file_extension": ".py",
   "mimetype": "text/x-python",
   "name": "python",
   "nbconvert_exporter": "python",
   "pygments_lexer": "ipython3",
   "version": "3.9.7"
  },
  "toc": {
   "base_numbering": 1,
   "nav_menu": {},
   "number_sections": true,
   "sideBar": true,
   "skip_h1_title": false,
   "title_cell": "Table of Contents",
   "title_sidebar": "Contents",
   "toc_cell": false,
   "toc_position": {},
   "toc_section_display": true,
   "toc_window_display": true
  },
  "varInspector": {
   "cols": {
    "lenName": 16,
    "lenType": 16,
    "lenVar": 40
   },
   "kernels_config": {
    "python": {
     "delete_cmd_postfix": "",
     "delete_cmd_prefix": "del ",
     "library": "var_list.py",
     "varRefreshCmd": "print(var_dic_list())"
    },
    "r": {
     "delete_cmd_postfix": ") ",
     "delete_cmd_prefix": "rm(",
     "library": "var_list.r",
     "varRefreshCmd": "cat(var_dic_list()) "
    }
   },
   "position": {
    "height": "812.85px",
    "left": "1559px",
    "right": "20px",
    "top": "117px",
    "width": "341px"
   },
   "types_to_exclude": [
    "module",
    "function",
    "builtin_function_or_method",
    "instance",
    "_Feature"
   ],
   "window_display": true
  }
 },
 "nbformat": 4,
 "nbformat_minor": 2
}
